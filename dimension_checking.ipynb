{
 "cells": [
  {
   "cell_type": "code",
   "execution_count": 1,
   "id": "6b8f859a",
   "metadata": {},
   "outputs": [
    {
     "name": "stdout",
     "output_type": "stream",
     "text": [
      " -----    -----    -----      -      -----   \n",
      "|     |  |     |  |     |    | |    |     |  \n",
      "|     |  |        |         |   |   |     |  \n",
      "|     |   -----   |        |     |  |-----   \n",
      "|     |        |  |        |-----|  |   |    \n",
      "|     |  |     |  |     |  |     |  |    |   \n",
      " -----    -----    -----   -     -  -     -  \n",
      "\n",
      "...combining (and extending) ANTIC, GAP, Polymake and Singular\n",
      "Version\u001b[32m 0.12.1 \u001b[39m... \n",
      " ... which comes with absolutely no warranty whatsoever\n",
      "Type: '?Oscar' for more information\n",
      "(c) 2019-2023 by The OSCAR Development Team\n"
     ]
    }
   ],
   "source": [
    "# This code runs on Julia 1.94, Oscar v0.12.1, and Polymake v0.9.2\n",
    "using Oscar \n",
    "using Polymake"
   ]
  },
  {
   "cell_type": "code",
   "execution_count": 13,
   "id": "47acd8d8",
   "metadata": {},
   "outputs": [
    {
     "data": {
      "text/plain": [
       "6"
      ]
     },
     "execution_count": 13,
     "metadata": {},
     "output_type": "execute_result"
    }
   ],
   "source": [
    "# Generate polytope\n",
    "c = polytope.cyclic(2, 6) \n",
    "\n",
    "# Get vertex-facet incidence matrix of c\n",
    "m = c.VERTICES_IN_FACETS\n",
    "\n",
    "# n is the number of facets c\n",
    "n = size(m)[1]"
   ]
  },
  {
   "cell_type": "code",
   "execution_count": 14,
   "id": "02b5b6de",
   "metadata": {},
   "outputs": [],
   "source": [
    "# Generate a list of lists where the ith list contains faces which do not intersect the ith face\n",
    "non_intersecting_facets = []\n",
    "for i in 1:n\n",
    "    # this list will contain facets that do not intersect the ith face\n",
    "    i_non_neighbors = []\n",
    "    # Check if the jth face and ith face have an common vertices\n",
    "    for j in 1:n\n",
    "        empty = true                    # intersection is empty\n",
    "        # Check all vertices...\n",
    "        for k in 1:size(m)[2]  \n",
    "            #... to see if they lie in both the i face and the j face\n",
    "            if m[i, k] && m[j, k]\n",
    "                # If the k vertex lies in both the i and j faces, then the intersection is non-empty\n",
    "                empty = false\n",
    "                break\n",
    "            end\n",
    "        end\n",
    "        # If i and j have no vertices in common, their intersection is non-empty, then add j to the list of non neighbors of i\n",
    "        if empty\n",
    "            push!(i_non_neighbors, j)\n",
    "        end\n",
    "    end\n",
    "    # Add the list of facets that do not intersect i to the list of non-intersecting faces\n",
    "    push!(non_intersecting_facets, i_non_neighbors)\n",
    "end"
   ]
  },
  {
   "cell_type": "code",
   "execution_count": 36,
   "id": "c62076be",
   "metadata": {},
   "outputs": [
    {
     "data": {
      "text/plain": [
       "6-element Vector{Any}:\n",
       " u1 + u3*u4*u5 - 1\n",
       " u2 + u4*u5*u6 - 1\n",
       " u1*u5*u6 + u3 - 1\n",
       " u1*u2*u6 + u4 - 1\n",
       " u1*u2*u3 + u5 - 1\n",
       " u2*u3*u4 + u6 - 1"
      ]
     },
     "metadata": {},
     "output_type": "display_data"
    },
    {
     "name": "stdout",
     "output_type": "stream",
     "text": [
      "1\n"
     ]
    }
   ],
   "source": [
    "# Create a ring from the variables\n",
    "variables = [join([\"u\", string(i)]) for i in 1:n]\n",
    "R, u = PolynomialRing(QQ, variables)\n",
    "\n",
    "# Our list of u-equations will be stored in ueqs\n",
    "ueqs = []\n",
    "\n",
    "# Set all the exponents to be 1\n",
    "exponents = [1 for i in non_intersecting_facets]\n",
    "\n",
    "# Set the exponents manually\n",
    "# exponents = [2, 3, 1, 1, 1, 1]\n",
    "\n",
    "# For each i, add the corresponding u equation to the list\n",
    "for i in 1:n\n",
    "    product = prod([u[j]^exponents[i] for j in non_intersecting_facets[i]])\n",
    "    push!(ueqs, u[i] + product - 1)\n",
    "end\n",
    "\n",
    "# Create an ideal from the u equations\n",
    "I = Oscar.ideal(ueqs)\n",
    "\n",
    "# Print the dimension: this much match the dimension of the original polytope to have home of a binary geometry\n",
    "display(ueqs)\n",
    "print(dim(I), \"\\n\")\n"
   ]
  },
  {
   "cell_type": "code",
   "execution_count": null,
   "metadata": {},
   "outputs": [],
   "source": []
  }
 ],
 "metadata": {
  "kernelspec": {
   "display_name": "Julia 1.9.0",
   "language": "julia",
   "name": "julia-1.9"
  },
  "language_info": {
   "file_extension": ".jl",
   "mimetype": "application/julia",
   "name": "julia",
   "version": "1.9.0"
  }
 },
 "nbformat": 4,
 "nbformat_minor": 5
}
